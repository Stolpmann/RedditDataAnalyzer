{
 "cells": [
  {
   "cell_type": "code",
   "execution_count": 1,
   "metadata": {
    "pycharm": {
     "name": "#%%\n"
    }
   },
   "outputs": [],
   "source": [
    "import praw\n",
    "import pandas as pd\n",
    "import matplotlib.pyplot as plt\n",
    "import numpy as np\n",
    "from wordcloud import WordCloud, ImageColorGenerator\n",
    "from PIL import Image"
   ]
  },
  {
   "cell_type": "code",
   "execution_count": 2,
   "metadata": {
    "pycharm": {
     "name": "#%%\n"
    }
   },
   "outputs": [],
   "source": [
    "df = pd.read_csv(\"/Users/Evan/Desktop/CanInvestorTopPost.csv\")"
   ]
  },
  {
   "cell_type": "code",
   "execution_count": 3,
   "metadata": {
    "pycharm": {
     "name": "#%%\n"
    }
   },
   "outputs": [],
   "source": [
    "count = df.title.str.split(expand=True).stack().value_counts().rename_axis('unique_values').reset_index(name='counts')"
   ]
  },
  {
   "cell_type": "code",
   "execution_count": 4,
   "metadata": {
    "pycharm": {
     "name": "#%%\n"
    }
   },
   "outputs": [
    {
     "data": {
      "text/html": [
       "<div>\n",
       "<style scoped>\n",
       "    .dataframe tbody tr th:only-of-type {\n",
       "        vertical-align: middle;\n",
       "    }\n",
       "\n",
       "    .dataframe tbody tr th {\n",
       "        vertical-align: top;\n",
       "    }\n",
       "\n",
       "    .dataframe thead th {\n",
       "        text-align: right;\n",
       "    }\n",
       "</style>\n",
       "<table border=\"1\" class=\"dataframe\">\n",
       "  <thead>\n",
       "    <tr style=\"text-align: right;\">\n",
       "      <th></th>\n",
       "      <th>unique_values</th>\n",
       "      <th>counts</th>\n",
       "    </tr>\n",
       "  </thead>\n",
       "  <tbody>\n",
       "    <tr>\n",
       "      <th>0</th>\n",
       "      <td>'to',</td>\n",
       "      <td>49</td>\n",
       "    </tr>\n",
       "    <tr>\n",
       "      <th>1</th>\n",
       "      <td>'for',</td>\n",
       "      <td>34</td>\n",
       "    </tr>\n",
       "    <tr>\n",
       "      <th>2</th>\n",
       "      <td>'in',</td>\n",
       "      <td>23</td>\n",
       "    </tr>\n",
       "    <tr>\n",
       "      <th>3</th>\n",
       "      <td>'a',</td>\n",
       "      <td>21</td>\n",
       "    </tr>\n",
       "    <tr>\n",
       "      <th>4</th>\n",
       "      <td>'the',</td>\n",
       "      <td>20</td>\n",
       "    </tr>\n",
       "    <tr>\n",
       "      <th>...</th>\n",
       "      <td>...</td>\n",
       "      <td>...</td>\n",
       "    </tr>\n",
       "    <tr>\n",
       "      <th>913</th>\n",
       "      <td>'helpful.',</td>\n",
       "      <td>1</td>\n",
       "    </tr>\n",
       "    <tr>\n",
       "      <th>914</th>\n",
       "      <td>'young',</td>\n",
       "      <td>1</td>\n",
       "    </tr>\n",
       "    <tr>\n",
       "      <th>915</th>\n",
       "      <td>'employment',</td>\n",
       "      <td>1</td>\n",
       "    </tr>\n",
       "    <tr>\n",
       "      <th>916</th>\n",
       "      <td>'improved',</td>\n",
       "      <td>1</td>\n",
       "    </tr>\n",
       "    <tr>\n",
       "      <th>917</th>\n",
       "      <td>'returns']</td>\n",
       "      <td>1</td>\n",
       "    </tr>\n",
       "  </tbody>\n",
       "</table>\n",
       "<p>918 rows × 2 columns</p>\n",
       "</div>"
      ],
      "text/plain": [
       "     unique_values  counts\n",
       "0            'to',      49\n",
       "1           'for',      34\n",
       "2            'in',      23\n",
       "3             'a',      21\n",
       "4           'the',      20\n",
       "..             ...     ...\n",
       "913    'helpful.',       1\n",
       "914       'young',       1\n",
       "915  'employment',       1\n",
       "916    'improved',       1\n",
       "917     'returns']       1\n",
       "\n",
       "[918 rows x 2 columns]"
      ]
     },
     "execution_count": 4,
     "metadata": {},
     "output_type": "execute_result"
    }
   ],
   "source": [
    "count"
   ]
  },
  {
   "cell_type": "code",
   "execution_count": 5,
   "metadata": {
    "pycharm": {
     "name": "#%%\n"
    }
   },
   "outputs": [
    {
     "data": {
      "text/html": [
       "<div>\n",
       "<style scoped>\n",
       "    .dataframe tbody tr th:only-of-type {\n",
       "        vertical-align: middle;\n",
       "    }\n",
       "\n",
       "    .dataframe tbody tr th {\n",
       "        vertical-align: top;\n",
       "    }\n",
       "\n",
       "    .dataframe thead th {\n",
       "        text-align: right;\n",
       "    }\n",
       "</style>\n",
       "<table border=\"1\" class=\"dataframe\">\n",
       "  <thead>\n",
       "    <tr style=\"text-align: right;\">\n",
       "      <th></th>\n",
       "      <th>keyword</th>\n",
       "      <th>counts</th>\n",
       "    </tr>\n",
       "  </thead>\n",
       "  <tbody>\n",
       "    <tr>\n",
       "      <th>0</th>\n",
       "      <td></td>\n",
       "      <td>35</td>\n",
       "    </tr>\n",
       "    <tr>\n",
       "      <th>26</th>\n",
       "      <td>a</td>\n",
       "      <td>21</td>\n",
       "    </tr>\n",
       "    <tr>\n",
       "      <th>27</th>\n",
       "      <td>about</td>\n",
       "      <td>3</td>\n",
       "    </tr>\n",
       "    <tr>\n",
       "      <th>28</th>\n",
       "      <td>abroad</td>\n",
       "      <td>1</td>\n",
       "    </tr>\n",
       "    <tr>\n",
       "      <th>29</th>\n",
       "      <td>access</td>\n",
       "      <td>1</td>\n",
       "    </tr>\n",
       "    <tr>\n",
       "      <th>...</th>\n",
       "      <td>...</td>\n",
       "      <td>...</td>\n",
       "    </tr>\n",
       "    <tr>\n",
       "      <th>667</th>\n",
       "      <td>youd</td>\n",
       "      <td>1</td>\n",
       "    </tr>\n",
       "    <tr>\n",
       "      <th>668</th>\n",
       "      <td>young</td>\n",
       "      <td>2</td>\n",
       "    </tr>\n",
       "    <tr>\n",
       "      <th>669</th>\n",
       "      <td>your</td>\n",
       "      <td>4</td>\n",
       "    </tr>\n",
       "    <tr>\n",
       "      <th>670</th>\n",
       "      <td>youve</td>\n",
       "      <td>1</td>\n",
       "    </tr>\n",
       "    <tr>\n",
       "      <th>671</th>\n",
       "      <td>zwc</td>\n",
       "      <td>2</td>\n",
       "    </tr>\n",
       "  </tbody>\n",
       "</table>\n",
       "<p>642 rows × 2 columns</p>\n",
       "</div>"
      ],
      "text/plain": [
       "    keyword  counts\n",
       "0                35\n",
       "26        a      21\n",
       "27    about       3\n",
       "28   abroad       1\n",
       "29   access       1\n",
       "..      ...     ...\n",
       "667    youd       1\n",
       "668   young       2\n",
       "669    your       4\n",
       "670   youve       1\n",
       "671     zwc       2\n",
       "\n",
       "[642 rows x 2 columns]"
      ]
     },
     "execution_count": 5,
     "metadata": {},
     "output_type": "execute_result"
    }
   ],
   "source": [
    "#Deletes everything but strings and digitis\n",
    "countnew = count['unique_values'].str.replace(r'\\W', '')\n",
    "\n",
    "#Generates a Dataframe from Series Countnew\n",
    "df2 = countnew.to_frame()\n",
    "\n",
    "#Add new data column to original count DF\n",
    "count['keyword'] = df2['unique_values']\n",
    "\n",
    "#Drop messy keyword Data column\n",
    "df3 = count.drop(axis=1, index=None, columns='unique_values')\n",
    "\n",
    "#Make all keyword values lowercase\n",
    "df3[\"keyword\"] = df3[\"keyword\"].str.lower()\n",
    "\n",
    "#Add all duplicates and there values\n",
    "df4 = df3.groupby(['keyword'],as_index=False).sum()\n",
    "\n",
    "#Delete all digits form Keyword value \n",
    "df5 = df4[~df4.keyword.str.contains(r'\\d')]\n",
    "\n",
    "\n",
    "#Generates a Dataframe from Series df5\n",
    "#df6 = df5.to_frame()\n",
    "\n",
    "df5"
   ]
  },
  {
   "cell_type": "code",
   "execution_count": 6,
   "metadata": {
    "pycharm": {
     "name": "#%%\n"
    }
   },
   "outputs": [],
   "source": [
    "df6=df5[(df5['keyword']!= \"a\") &\n",
    "        (df5['keyword']!= \"to\") &\n",
    "        (df5['keyword']!= \"of\") &\n",
    "        (df5['keyword']!= \"for\") &\n",
    "        (df5['keyword']!= \"in\") &\n",
    "        (df5['keyword']!= \"the\") &\n",
    "        (df5['keyword']!= \"your\") &\n",
    "        (df5['keyword']!= \"and\") &\n",
    "        (df5['keyword']!= \"you\") &\n",
    "        (df5['keyword']!= \"my\") &\n",
    "        (df5['keyword']!= \"i\") &\n",
    "        (df5['keyword']!= \"your\") &\n",
    "        (df5['keyword']!= \"from\") &\n",
    "        (df5['keyword']!= \"with\") &\n",
    "        (df5['keyword']!= \"do\") &\n",
    "        (df5['keyword']!= \"or\") &\n",
    "        (df5['keyword']!= \"what\") &\n",
    "        (df5['keyword']!= \"it\") &\n",
    "        (df5['keyword']!= \"\") &\n",
    "        (df5['keyword']!= \"is\") &\n",
    "        (df5['keyword']!= \"are\") &\n",
    "        (df5['keyword']!= \"on\") &\n",
    "        (df5['keyword']!= \"me\") &\n",
    "        (df5['keyword']!= \"at\") &\n",
    "        (df5['keyword']!= \"that\") &\n",
    "        (df5['keyword']!= \"some\") &\n",
    "        (df5['keyword']!= \"be\") &\n",
    "        (df5['keyword']!= \"will\") &\n",
    "        (df5['keyword']!= \"has\") &\n",
    "        (df5['keyword']!= \"there\") &\n",
    "        (df5['keyword']!= \"when\") &\n",
    "        (df5['keyword']!= \"if\") &\n",
    "        (df5['keyword']!= \"who\") &\n",
    "        (df5['keyword']!= \"whats\") &\n",
    "        (df5['keyword']!= \"have\") &\n",
    "        (df5['keyword']!= \"should\") &\n",
    "        (df5['keyword']!= \"how\") &\n",
    "        (df5['keyword']!= \"does\") &\n",
    "        (df5['keyword']!= \"over\") &\n",
    "        (df5['keyword']!= \"any\") &\n",
    "        (df5['keyword']!= \"now\") &\n",
    "        (df5['keyword']!= \"those\") &\n",
    "        (df5['keyword']!= \"here\") &\n",
    "        (df5['keyword']!= \"le\") &\n",
    "        (df5['keyword']!= \"as\") &\n",
    "        (df5['keyword']!= \"vs\") &\n",
    "        (df5['keyword']!= \"about\") &\n",
    "        (df5['keyword']!= \"can\") &\n",
    "        (df5['keyword']!= \"an\") &\n",
    "        (df5['keyword']!= \"not\") &\n",
    "        (df5['keyword']!= \"best\") &\n",
    "        (df5['keyword']!= \"us\") &\n",
    "        (df5['keyword']!= \"way\") &\n",
    "        (df5['keyword']!= \"much\") &\n",
    "        (df5['keyword']!= \"any\") &\n",
    "        (df5['keyword']!= \"anyone\") &\n",
    "        (df5['keyword']!= \"get\") &\n",
    "        (df5['keyword']!= \"this\") &\n",
    "        (df5['keyword']!= \"into\") &\n",
    "        (df5['keyword']!= \"but\") &\n",
    "        (df5['keyword']!= \"no\") &\n",
    "        (df5['keyword']!= \"would\") &\n",
    "        (df5['keyword']!= \"while\") &\n",
    "        (df5['keyword']!= \"just\") &\n",
    "        (df5['keyword']!= \"need\") &\n",
    "        (df5['keyword']!= \"more\") &\n",
    "        (df5['keyword']!= \"was\") &\n",
    "        (df5['keyword']!= \"they\") &\n",
    "        (df5['keyword']!= \"make\") &\n",
    "        (df5['keyword']!= \"sure\") &\n",
    "        (df5['keyword']!= \"their\") &\n",
    "        (df5['keyword']!= \" \") &\n",
    "        (df5['keyword']!= \"only\") &\n",
    "        (df5['keyword']!= \"eq\") &\n",
    "        (df5['keyword']!= \"why\") &\n",
    "        (df5['keyword']!= \"did\") &\n",
    "        (df5['keyword']!= \"its\") &\n",
    "        (df5['keyword']!= \"tangerine\") &\n",
    "        (df5['keyword']!= \"wealthsimple\") &\n",
    "        (df5['keyword']!= \"td\") &\n",
    "        (df5['keyword']!= \"am\") &\n",
    "        (df5['keyword']!= \"by\") &\n",
    "        (df5['keyword']!= \"going\") &\n",
    "        (df5['keyword']!= \"where\") &\n",
    "        (df5['keyword']!= \"questtrade\") &\n",
    "        (df5['keyword']!= \"use\") &\n",
    "        (df5['keyword']!= \"cibc\") &\n",
    "        (df5['keyword']!= \"i'm\") &\n",
    "        (df5['keyword']!= \"using\") &\n",
    "        (df5['keyword']!= \"been\") &\n",
    "        (df5['keyword']!= \"back\") &\n",
    "        (df5['keyword']!= \"second\") &\n",
    "        (df5['keyword']!= \"still\") &\n",
    "        (df5['keyword']!= \"which\") &\n",
    "        (df5['keyword']!= \"im\") &\n",
    "        (df5['keyword']!= \"been\") &\n",
    "        (df5['keyword']!= \"too\") \n",
    "       ]"
   ]
  },
  {
   "cell_type": "code",
   "execution_count": 7,
   "metadata": {
    "pycharm": {
     "name": "#%%\n"
    }
   },
   "outputs": [
    {
     "data": {
      "text/html": [
       "<div>\n",
       "<style scoped>\n",
       "    .dataframe tbody tr th:only-of-type {\n",
       "        vertical-align: middle;\n",
       "    }\n",
       "\n",
       "    .dataframe tbody tr th {\n",
       "        vertical-align: top;\n",
       "    }\n",
       "\n",
       "    .dataframe thead th {\n",
       "        text-align: right;\n",
       "    }\n",
       "</style>\n",
       "<table border=\"1\" class=\"dataframe\">\n",
       "  <thead>\n",
       "    <tr style=\"text-align: right;\">\n",
       "      <th></th>\n",
       "      <th>keyword</th>\n",
       "      <th>counts</th>\n",
       "    </tr>\n",
       "  </thead>\n",
       "  <tbody>\n",
       "    <tr>\n",
       "      <th>579</th>\n",
       "      <td>tfsa</td>\n",
       "      <td>19</td>\n",
       "    </tr>\n",
       "    <tr>\n",
       "      <th>553</th>\n",
       "      <td>stocks</td>\n",
       "      <td>19</td>\n",
       "    </tr>\n",
       "    <tr>\n",
       "      <th>172</th>\n",
       "      <td>discussion</td>\n",
       "      <td>13</td>\n",
       "    </tr>\n",
       "    <tr>\n",
       "      <th>593</th>\n",
       "      <td>thread</td>\n",
       "      <td>12</td>\n",
       "    </tr>\n",
       "    <tr>\n",
       "      <th>315</th>\n",
       "      <td>june</td>\n",
       "      <td>11</td>\n",
       "    </tr>\n",
       "    <tr>\n",
       "      <th>...</th>\n",
       "      <td>...</td>\n",
       "      <td>...</td>\n",
       "    </tr>\n",
       "    <tr>\n",
       "      <th>338</th>\n",
       "      <td>lira</td>\n",
       "      <td>1</td>\n",
       "    </tr>\n",
       "    <tr>\n",
       "      <th>337</th>\n",
       "      <td>liquid</td>\n",
       "      <td>1</td>\n",
       "    </tr>\n",
       "    <tr>\n",
       "      <th>336</th>\n",
       "      <td>line</td>\n",
       "      <td>1</td>\n",
       "    </tr>\n",
       "    <tr>\n",
       "      <th>136</th>\n",
       "      <td>cons</td>\n",
       "      <td>1</td>\n",
       "    </tr>\n",
       "    <tr>\n",
       "      <th>28</th>\n",
       "      <td>abroad</td>\n",
       "      <td>1</td>\n",
       "    </tr>\n",
       "  </tbody>\n",
       "</table>\n",
       "<p>561 rows × 2 columns</p>\n",
       "</div>"
      ],
      "text/plain": [
       "        keyword  counts\n",
       "579        tfsa      19\n",
       "553      stocks      19\n",
       "172  discussion      13\n",
       "593      thread      12\n",
       "315        june      11\n",
       "..          ...     ...\n",
       "338        lira       1\n",
       "337      liquid       1\n",
       "336        line       1\n",
       "136        cons       1\n",
       "28       abroad       1\n",
       "\n",
       "[561 rows x 2 columns]"
      ]
     },
     "execution_count": 7,
     "metadata": {},
     "output_type": "execute_result"
    }
   ],
   "source": [
    "df7 = df6.sort_values(by=['counts'], ascending = False)\n",
    "df7"
   ]
  },
  {
   "cell_type": "code",
   "execution_count": 8,
   "metadata": {
    "pycharm": {
     "name": "#%%\n"
    }
   },
   "outputs": [],
   "source": [
    "df7.to_csv(r'/Users/Evan/Desktop/Argosytestdata.csv', index = False)\n"
   ]
  },
  {
   "cell_type": "code",
   "execution_count": null,
   "metadata": {
    "pycharm": {
     "name": "#%%\n"
    }
   },
   "outputs": [],
   "source": [
    "df7top = df7.head(150)"
   ]
  },
  {
   "cell_type": "code",
   "execution_count": null,
   "metadata": {
    "pycharm": {
     "name": "#%%\n"
    }
   },
   "outputs": [],
   "source": [
    "df7chart = df7top.plot(kind='bar',x='keyword',y='counts', figsize=(24, 6))"
   ]
  },
  {
   "cell_type": "code",
   "execution_count": null,
   "metadata": {
    "pycharm": {
     "name": "#%%\n"
    }
   },
   "outputs": [],
   "source": [
    "data = dict(zip(df7top['keyword'].tolist(), df7top['counts'].tolist()))"
   ]
  },
  {
   "cell_type": "code",
   "execution_count": null,
   "metadata": {
    "pycharm": {
     "name": "#%%\n"
    }
   },
   "outputs": [],
   "source": [
    "wc = WordCloud(background_color='white', width=800, height=800, max_words=200).generate_from_frequencies(data)"
   ]
  },
  {
   "cell_type": "code",
   "execution_count": null,
   "metadata": {
    "pycharm": {
     "name": "#%%\n"
    }
   },
   "outputs": [],
   "source": [
    "plt.figure(figsize=(10, 10))\n",
    "plt.imshow(wc, interpolation='bilinear')\n",
    "plt.axis('off')\n",
    "plt.show()"
   ]
  },
  {
   "cell_type": "code",
   "execution_count": null,
   "metadata": {
    "pycharm": {
     "name": "#%%\n"
    }
   },
   "outputs": [],
   "source": [
    "keybase_mask = np.array(Image.open('/Users/Evan/Desktop/Key Base Finacial Internship/Keybase/Keybase Digital Assets/layer 6.png'))\n",
    "wc = WordCloud(background_color='white',mode=\"RGBA\", width=1200, height=800, max_words=200, mask=keybase_mask).generate_from_frequencies(data)\n",
    "\n",
    "image_colors = ImageColorGenerator(keybase_mask)\n",
    "plt.figure(figsize=(15, 15))\n",
    "plt.imshow(wc.recolor(color_func=image_colors), interpolation='bilinear')\n",
    "plt.axis(\"off\")"
   ]
  },
  {
   "cell_type": "code",
   "execution_count": null,
   "metadata": {
    "pycharm": {
     "name": "#%%\n"
    }
   },
   "outputs": [],
   "source": [
    "wc.to_file(\"/Users/Evan/Desktop/untitled folder/Wordcloudtest.png\")"
   ]
  },
  {
   "cell_type": "code",
   "execution_count": null,
   "metadata": {
    "pycharm": {
     "name": "#%%\n"
    }
   },
   "outputs": [],
   "source": [
    "canada_mask = np.array(Image.open('/Users/Evan/Desktop/Key Base Finacial Internship/Keybase/Keybase Digital Assets/blackflag.png'))\n",
    "wc1 = WordCloud(background_color='white',mode=\"RGBA\", width=1200, height=800, max_words=200, mask=canada_mask).generate_from_frequencies(data)\n",
    "\n",
    "image_colors = ImageColorGenerator(canada_mask)\n",
    "plt.figure(figsize=(15, 15))\n",
    "plt.imshow(wc1.recolor(color_func=image_colors), interpolation='bilinear')\n",
    "plt.axis(\"off\")"
   ]
  },
  {
   "cell_type": "code",
   "execution_count": null,
   "metadata": {
    "pycharm": {
     "name": "#%%\n"
    }
   },
   "outputs": [],
   "source": [
    "wc1.to_file(\"/Users/Evan/Desktop/untitled folder/Wordcloudtest.png\")"
   ]
  },
  {
   "cell_type": "code",
   "execution_count": null,
   "metadata": {
    "pycharm": {
     "name": "#%%\n"
    }
   },
   "outputs": [],
   "source": [
    "WeeklyTopTen = df7.head(10)\n",
    "WeeklyTopTen = WeeklyTopTen.reset_index()\n",
    "WeeklyTopTen = WeeklyTopTen.drop(columns='index')\n",
    "WeeklyTopTen"
   ]
  }
 ],
 "metadata": {
  "kernelspec": {
   "display_name": "Python 3",
   "language": "python",
   "name": "python3"
  },
  "language_info": {
   "codemirror_mode": {
    "name": "ipython",
    "version": 3
   },
   "file_extension": ".py",
   "mimetype": "text/x-python",
   "name": "python",
   "nbconvert_exporter": "python",
   "pygments_lexer": "ipython3",
   "version": "3.8.5"
  },
  "pycharm": {
   "stem_cell": {
    "cell_type": "raw",
    "metadata": {
     "collapsed": false
    },
    "source": []
   }
  }
 },
 "nbformat": 4,
 "nbformat_minor": 1
}
